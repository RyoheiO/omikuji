{
 "cells": [
  {
   "cell_type": "code",
   "execution_count": null,
   "metadata": {},
   "outputs": [
    {
     "name": "stdout",
     "output_type": "stream",
     "text": [
      " * Serving Flask app \"__main__\" (lazy loading)\n",
      " * Environment: production\n",
      "   WARNING: This is a development server. Do not use it in a production deployment.\n",
      "   Use a production WSGI server instead.\n",
      " * Debug mode: off\n"
     ]
    },
    {
     "name": "stderr",
     "output_type": "stream",
     "text": [
      " * Running on http://127.0.0.1:5000/ (Press CTRL+C to quit)\n",
      "127.0.0.1 - - [20/Dec/2020 20:36:52] \"\u001b[37mGET / HTTP/1.1\u001b[0m\" 200 -\n",
      "127.0.0.1 - - [20/Dec/2020 20:36:54] \"\u001b[37mGET /result HTTP/1.1\u001b[0m\" 200 -\n"
     ]
    }
   ],
   "source": [
    "from flask import Flask, render_template\n",
    "import random\n",
    "\n",
    "app=Flask(__name__)\n",
    "\n",
    "def omikuji():\n",
    "    event = list([\"あたり\",\"はずれ\"])\n",
    "    return random.choice(event)\n",
    "\n",
    "@app.route('/')\n",
    "def start():\n",
    "        return \"\"\"\n",
    "        <html>\n",
    "        <head>\n",
    "            <meta charset=\"utf-8\">\n",
    "            <title>おみくじ</title>\n",
    "        </head>\n",
    "        <body>\n",
    "            おみくじ開始</br>\n",
    "            <form action=\"/result\" method=\"GET\">\n",
    "                <input type=\"submit\" value=\"開始\" >\n",
    "            </form>\n",
    "        </body>\n",
    "        </html>\"\"\"\n",
    "    \n",
    "@app.route('/result')\n",
    "def index():\n",
    "    result = omikuji()\n",
    "    #テンプレートエンジンにデータを指定\n",
    "    return render_template(\"index.html\",\n",
    "                          result = result)\n",
    "\n",
    "if __name__ ==\"__main__\":\n",
    "    app.run()\n"
   ]
  },
  {
   "cell_type": "code",
   "execution_count": null,
   "metadata": {},
   "outputs": [],
   "source": []
  }
 ],
 "metadata": {
  "kernelspec": {
   "display_name": "Python 3",
   "language": "python",
   "name": "python3"
  },
  "language_info": {
   "codemirror_mode": {
    "name": "ipython",
    "version": 3
   },
   "file_extension": ".py",
   "mimetype": "text/x-python",
   "name": "python",
   "nbconvert_exporter": "python",
   "pygments_lexer": "ipython3",
   "version": "3.7.3"
  }
 },
 "nbformat": 4,
 "nbformat_minor": 2
}
